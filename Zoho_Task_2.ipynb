{
  "cells": [
    {
      "cell_type": "markdown",
      "metadata": {
        "id": "dfPmxStIjZci"
      },
      "source": [
        "**Question 1:** Two Sum\n",
        "\n",
        "Given an array of integers `nums` and an integer target, return indices of the two numbers such that they\n",
        "add up to `target`.\n",
        "\n",
        "You may assume that each input would have exactly one solution, and you may not use the same\n",
        "element twice.\n",
        "\n",
        "You can return the answer in any order.\n",
        "\n",
        "**Example:**\n",
        "\n",
        "Input: nums = `[2,7,11,15]`, target = `9`\n",
        "\n",
        "Output: `[0,1]`\n",
        "\n",
        "Explanation: Because `nums[0]` + `nums[1]` == `9`, we return [0, 1]."
      ]
    },
    {
      "cell_type": "code",
      "execution_count": 8,
      "metadata": {
        "colab": {
          "base_uri": "https://localhost:8080/"
        },
        "id": "YoIgp-YejZck",
        "outputId": "e2d15a99-8979-4b05-a2ae-c86195e8d3ef"
      },
      "outputs": [
        {
          "output_type": "stream",
          "name": "stdout",
          "text": [
            "2 7 11 15\n",
            "9\n",
            "[0, 1]\n"
          ]
        }
      ],
      "source": [
        "def somthing(nums,target):\n",
        "    arr=[]\n",
        "    for i in range(0,len(nums)):\n",
        "        for j in range(0,len(nums)):\n",
        "            if j == len(nums) or num[j] == num[i]:\n",
        "              continue\n",
        "            elif nums[i] + nums[j] == target:\n",
        "                arr.append(i)\n",
        "                arr.append(j)\n",
        "                return arr\n",
        "\n",
        "\n",
        "\n",
        "num=list(map(int,input().split()))\n",
        "target=int(input())\n",
        "\n",
        "print(somthing(num,target))\n"
      ]
    },
    {
      "cell_type": "markdown",
      "source": [],
      "metadata": {
        "id": "29CSv2rll444"
      }
    }
  ],
  "metadata": {
    "kernelspec": {
      "display_name": "Python 3",
      "language": "python",
      "name": "python3"
    },
    "language_info": {
      "codemirror_mode": {
        "name": "ipython",
        "version": 3
      },
      "file_extension": ".py",
      "mimetype": "text/x-python",
      "name": "python",
      "nbconvert_exporter": "python",
      "pygments_lexer": "ipython3",
      "version": "3.12.3"
    },
    "colab": {
      "provenance": []
    }
  },
  "nbformat": 4,
  "nbformat_minor": 0
}